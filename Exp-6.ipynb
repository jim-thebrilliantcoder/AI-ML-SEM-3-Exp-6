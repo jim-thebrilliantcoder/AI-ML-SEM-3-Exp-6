{
  "nbformat": 4,
  "nbformat_minor": 0,
  "metadata": {
    "colab": {
      "provenance": []
    },
    "kernelspec": {
      "name": "python3",
      "display_name": "Python 3"
    },
    "language_info": {
      "name": "python"
    }
  },
  "cells": [
    {
      "cell_type": "code",
      "execution_count": null,
      "metadata": {
        "id": "aYg0qGBjMjO8"
      },
      "outputs": [],
      "source": [
        "import numpy as np\n",
        "import pandas as pd\n",
        "import matplotlib.pyplot as plt\n",
        "from scipy import stats"
      ]
    },
    {
      "cell_type": "code",
      "source": [
        "data = np.random.randn(10, 5)"
      ],
      "metadata": {
        "id": "fkLbsegRMkgx"
      },
      "execution_count": null,
      "outputs": []
    },
    {
      "cell_type": "code",
      "source": [
        "n_missing = int(data.size * 0.1)\n",
        "missing_indices = (np.random.randint(0, data.shape[0], n_missing), np.random.randint(0, data.shape[1], n_missing))\n",
        "data[missing_indices] = np.nan\n",
        "outliers_indices = np.random.choice(data.shape[0], 5, replace=False)\n",
        "data[outliers_indices] = data[outliers_indices] * 10"
      ],
      "metadata": {
        "id": "DvD2dok9Mm3q"
      },
      "execution_count": null,
      "outputs": []
    },
    {
      "cell_type": "code",
      "source": [
        "df = pd.DataFrame(data, columns=[f'Feature_{i}' for i in range(5)])"
      ],
      "metadata": {
        "id": "rwKmD4dBMqoe"
      },
      "execution_count": null,
      "outputs": []
    },
    {
      "cell_type": "code",
      "source": [
        "df_dropna = df.dropna()\n",
        "df_fill_mean = df.fillna(df.mean())\n",
        "df_fill_median = df.fillna(df.median())"
      ],
      "metadata": {
        "id": "9ZnhKW0qMtmn"
      },
      "execution_count": null,
      "outputs": []
    }
  ]
}